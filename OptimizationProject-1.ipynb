{
 "cells": [
  {
   "cell_type": "code",
   "execution_count": 139,
   "metadata": {},
   "outputs": [],
   "source": [
    "import numpy as np\n",
    "import gurobipy as gp\n",
    "import pandas as pd\n",
    "import calendar"
   ]
  },
  {
   "cell_type": "code",
   "execution_count": 76,
   "metadata": {},
   "outputs": [],
   "source": [
    "# Reading the ROI_data csv file\n",
    "df = pd.read_csv('ROI_data.csv')"
   ]
  },
  {
   "cell_type": "code",
   "execution_count": 77,
   "metadata": {},
   "outputs": [
    {
     "data": {
      "text/plain": [
       "array([0.031, 0.049, 0.024, 0.039, 0.016, 0.024, 0.046, 0.026, 0.033,\n",
       "       0.044], dtype=object)"
      ]
     },
     "execution_count": 77,
     "metadata": {},
     "output_type": "execute_result"
    }
   ],
   "source": [
    "# Creating objective vectors\n",
    "firm1_ROI = np.array(df.iloc[0,1:]) \n",
    "firm2_ROI = np.array(df.iloc[1,1:]) \n",
    "firm1_ROI"
   ]
  },
  {
   "cell_type": "markdown",
   "metadata": {},
   "source": [
    "# Question 3\n",
    "Formulate the marketing budget allocation problem as a linear program and find the optimal budget allocation. "
   ]
  },
  {
   "cell_type": "code",
   "execution_count": 78,
   "metadata": {},
   "outputs": [],
   "source": [
    "A = np.zeros((13,10)) # initialize constraint matrix\n",
    "# P, Tv, Seo, AW, F, L, I, Sn, T, E\n",
    "A[0,:] = [1,1,0,0,-1,0,0,0,0,-1] \n",
    "A[1,:] = [0,0,-2,-2,1,1,1,1,1,0] \n",
    "A[2,:] = [1,0,0,0,0,0,0,0,0,0] \n",
    "A[3,:] = [0,1,0,0,0,0,0,0,0,0] \n",
    "A[4,:] = [0,0,1,0,0,0,0,0,0,0] \n",
    "A[5,:] = [0,0,0,1,0,0,0,0,0,0] \n",
    "A[6,:] = [0,0,0,0,1,0,0,0,0,0] \n",
    "A[7,:] = [0,0,0,0,0,1,0,0,0,0] \n",
    "A[8,:] = [0,0,0,0,0,0,1,0,0,0] \n",
    "A[9,:] = [0,0,0,0,0,0,0,1,0,0] \n",
    "A[10,:] = [0,0,0,0,0,0,0,0,1,0] \n",
    "A[11,:] = [0,0,0,0,0,0,0,0,0,1] \n",
    "A[12,:] = [1,1,1,1,1,1,1,1,1,1]\n",
    "b = np.array([0,0,3,3,3,3,3,3,3,3,3,3,10]) # limits\n",
    "sense = np.array(['<','>','<','<','<','<','<','<','<','<','<','<','<']) # all constraints"
   ]
  },
  {
   "cell_type": "code",
   "execution_count": 79,
   "metadata": {},
   "outputs": [
    {
     "name": "stdout",
     "output_type": "stream",
     "text": [
      "[[ 1.  1.  0.  0. -1.  0.  0.  0.  0. -1.]\n",
      " [ 0.  0. -2. -2.  1.  1.  1.  1.  1.  0.]\n",
      " [ 1.  0.  0.  0.  0.  0.  0.  0.  0.  0.]\n",
      " [ 0.  1.  0.  0.  0.  0.  0.  0.  0.  0.]\n",
      " [ 0.  0.  1.  0.  0.  0.  0.  0.  0.  0.]\n",
      " [ 0.  0.  0.  1.  0.  0.  0.  0.  0.  0.]\n",
      " [ 0.  0.  0.  0.  1.  0.  0.  0.  0.  0.]\n",
      " [ 0.  0.  0.  0.  0.  1.  0.  0.  0.  0.]\n",
      " [ 0.  0.  0.  0.  0.  0.  1.  0.  0.  0.]\n",
      " [ 0.  0.  0.  0.  0.  0.  0.  1.  0.  0.]\n",
      " [ 0.  0.  0.  0.  0.  0.  0.  0.  1.  0.]\n",
      " [ 0.  0.  0.  0.  0.  0.  0.  0.  0.  1.]\n",
      " [ 1.  1.  1.  1.  1.  1.  1.  1.  1.  1.]]\n"
     ]
    }
   ],
   "source": [
    "print(A)"
   ]
  },
  {
   "cell_type": "code",
   "execution_count": 80,
   "metadata": {},
   "outputs": [],
   "source": [
    "ojModel = gp.Model() # initialize an empty model\n",
    "\n",
    "ojModX = ojModel.addMVar(10) # tell the model how many variables there are\n",
    "ojModCon = ojModel.addMConstrs(A, ojModX, sense, b) # add the constraints to the model\n",
    "ojModel.setMObjective(None,firm1_ROI,0,sense=gp.GRB.MAXIMIZE) # add the objective to the model\n",
    "\n",
    "ojModel.Params.OutputFlag = 0"
   ]
  },
  {
   "cell_type": "code",
   "execution_count": 81,
   "metadata": {},
   "outputs": [],
   "source": [
    "ojModel.optimize() # solve the LP"
   ]
  },
  {
   "cell_type": "code",
   "execution_count": 82,
   "metadata": {},
   "outputs": [
    {
     "data": {
      "text/plain": [
       "0.45600000000000007"
      ]
     },
     "execution_count": 82,
     "metadata": {},
     "output_type": "execute_result"
    }
   ],
   "source": [
    "ojModel.objVal # optimal budget allocation level in million"
   ]
  },
  {
   "cell_type": "code",
   "execution_count": 83,
   "metadata": {},
   "outputs": [
    {
     "data": {
      "text/plain": [
       "array([0., 3., 0., 1., 0., 0., 3., 0., 0., 3.])"
      ]
     },
     "execution_count": 83,
     "metadata": {},
     "output_type": "execute_result"
    }
   ],
   "source": [
    "ojModX.x "
   ]
  },
  {
   "cell_type": "markdown",
   "metadata": {},
   "source": [
    "# Question 4\n",
    "Compare the two optimal budget allocations from the two ROI estimates"
   ]
  },
  {
   "cell_type": "code",
   "execution_count": 84,
   "metadata": {},
   "outputs": [],
   "source": [
    "ojModel1 = gp.Model() # initialize an empty model\n",
    "\n",
    "ojModX1 = ojModel1.addMVar(10) # tell the model how many variables there are\n",
    "ojModCon1 = ojModel1.addMConstrs(A, ojModX1, sense, b) # add the constraints to the model\n",
    "ojModel1.setMObjective(None,firm2_ROI,0,sense=gp.GRB.MAXIMIZE) # add the objective to the model\n",
    "\n",
    "ojModel1.Params.OutputFlag = 0"
   ]
  },
  {
   "cell_type": "code",
   "execution_count": 85,
   "metadata": {},
   "outputs": [],
   "source": [
    "ojModel1.optimize() # solve the LP"
   ]
  },
  {
   "cell_type": "code",
   "execution_count": 86,
   "metadata": {},
   "outputs": [
    {
     "data": {
      "text/plain": [
       "0.45600000000000007"
      ]
     },
     "execution_count": 86,
     "metadata": {},
     "output_type": "execute_result"
    }
   ],
   "source": [
    "ojModel1.objVal # optimal budget allocation level in million"
   ]
  },
  {
   "cell_type": "code",
   "execution_count": 87,
   "metadata": {},
   "outputs": [
    {
     "data": {
      "text/plain": [
       "array([3., 0., 0., 1., 3., 3., 0., 0., 0., 0.])"
      ]
     },
     "execution_count": 87,
     "metadata": {},
     "output_type": "execute_result"
    }
   ],
   "source": [
    "ojModX1.x "
   ]
  },
  {
   "cell_type": "markdown",
   "metadata": {},
   "source": [
    "**Comparing the two models**\n",
    "\n",
    "The overall optimal ROI from the budget allocation from both models is the same.\n",
    "\n",
    "However the allocations are different.\n",
    "\n",
    "The allocations are : \n",
    "\n",
    "MODEL Print  TV      SEO    AdWords Facebook LinkedIn Instagram Snapchat Twitter Email\n",
    " 1.     0     3       0        1         0        0        3        0        0      3\n",
    " 2.     3     0       0        1         3        3        0        0        0      0"
   ]
  },
  {
   "cell_type": "markdown",
   "metadata": {},
   "source": [
    "# Question 5\n",
    "\n",
    "Part 1 - Assuming the first ROI is correct using the second ROI data"
   ]
  },
  {
   "cell_type": "code",
   "execution_count": 88,
   "metadata": {},
   "outputs": [
    {
     "name": "stdout",
     "output_type": "stream",
     "text": [
      "0.252\n"
     ]
    }
   ],
   "source": [
    "X = np.zeros((10,10))\n",
    "# P, Tv, Seo, AW, F, L, I, Sn, T, E\n",
    "X[0,:] = [3,0,0,0,0,0,0,0,0,0] \n",
    "X[1,:] = [0,0,0,0,0,0,0,0,0,0] \n",
    "X[2,:] = [0,0,0,0,0,0,0,0,0,0] \n",
    "X[3,:] = [0,0,0,1,0,0,0,0,0,0] \n",
    "X[4,:] = [0,0,0,0,3,0,0,0,0,0] \n",
    "X[5,:] = [0,0,0,0,0,3,0,0,0,0] \n",
    "X[6,:] = [0,0,0,0,0,0,0,0,0,0] \n",
    "X[7,:] = [0,0,0,0,0,0,0,0,0,0] \n",
    "X[8,:] = [0,0,0,0,0,0,0,0,0,0] \n",
    "X[9,:] = [0,0,0,0,0,0,0,0,0,0]\n",
    "return1 = np.sum(X*firm1_ROI)\n",
    "print(return1)"
   ]
  },
  {
   "cell_type": "code",
   "execution_count": 89,
   "metadata": {},
   "outputs": [
    {
     "name": "stdout",
     "output_type": "stream",
     "text": [
      "The returns decreases by 20.4% if the first model correct and use the second model's data.\n"
     ]
    }
   ],
   "source": [
    "# Difference in returns\n",
    "diff_1 = ojModel.objVal - return1\n",
    "print('The returns decreases by '+ str(round(diff_1*100,2)) +'% if the first model correct and use the second model\\'s data.')"
   ]
  },
  {
   "cell_type": "markdown",
   "metadata": {},
   "source": [
    "Part 2 - Assuming the second ROI is correct using the first ROI data"
   ]
  },
  {
   "cell_type": "code",
   "execution_count": 90,
   "metadata": {},
   "outputs": [
    {
     "name": "stdout",
     "output_type": "stream",
     "text": [
      "0.264\n"
     ]
    }
   ],
   "source": [
    "Y = np.zeros((10,10))\n",
    "# P, Tv, Seo, AW, F, L, I, Sn, T, E\n",
    "Y[0,:] = [0,0,0,0,0,0,0,0,0,0] \n",
    "Y[1,:] = [0,3,0,0,0,0,0,0,0,0] \n",
    "Y[2,:] = [0,0,0,0,0,0,0,0,0,0] \n",
    "Y[3,:] = [0,0,0,1,0,0,0,0,0,0] \n",
    "Y[4,:] = [0,0,0,0,0,0,0,0,0,0] \n",
    "Y[5,:] = [0,0,0,0,0,0,0,0,0,0] \n",
    "Y[6,:] = [0,0,0,0,0,0,3,0,0,0] \n",
    "Y[7,:] = [0,0,0,0,0,0,0,0,0,0] \n",
    "Y[8,:] = [0,0,0,0,0,0,0,0,0,0] \n",
    "Y[9,:] = [0,0,0,0,0,0,0,0,0,3]\n",
    "return2 = np.sum(Y*firm2_ROI)\n",
    "print(return2)"
   ]
  },
  {
   "cell_type": "code",
   "execution_count": 91,
   "metadata": {},
   "outputs": [
    {
     "name": "stdout",
     "output_type": "stream",
     "text": [
      "The returns decreases by 19.2% if the second model correct and use the first model's data.\n"
     ]
    }
   ],
   "source": [
    "# Difference in returns\n",
    "diff_2 = ojModel1.objVal - return2\n",
    "print('The returns decreases by '+ str(round(diff_2*100,2)) +'% if the second model correct and use the first model\\'s data.')"
   ]
  },
  {
   "cell_type": "markdown",
   "metadata": {},
   "source": [
    "**Validating the usefulness of the third constraint**\n",
    "Amount invested for each platform is not more than $3M"
   ]
  },
  {
   "cell_type": "code",
   "execution_count": 92,
   "metadata": {},
   "outputs": [
    {
     "name": "stdout",
     "output_type": "stream",
     "text": [
      "[[ 1.  1.  1.  1.  1.  1.  1.  1.  1.  1.]\n",
      " [ 1.  1.  0.  0. -1.  0.  0.  0.  0. -1.]\n",
      " [ 0.  0. -2. -2.  1.  1.  1.  1.  1.  0.]]\n"
     ]
    }
   ],
   "source": [
    "Z = np.zeros((3,10))               # initialize constraint matrix\n",
    "# P, Tv, Seo, AW, F, L, I, Sn, T, E\n",
    "Z[0,:] =  [1,1,1,1,1,1,1,1,1,1]                         \n",
    "Z[1,:] =  [1,1,0,0,-1,0,0,0,0,-1]                         \n",
    "Z[2,:] =  [0,0,-2,-2,1,1,1,1,1,0]  \n",
    "b1 = np.array([10,0,0])        \n",
    "sense = np.array(['<','<','>']) \n",
    "print(Z)"
   ]
  },
  {
   "cell_type": "code",
   "execution_count": 93,
   "metadata": {},
   "outputs": [],
   "source": [
    "ojModel2 = gp.Model() # initialize an empty model\n",
    "\n",
    "ojModX2 = ojModel2.addMVar(10) # tell the model how many variables there are\n",
    "ojModCon2 = ojModel2.addMConstrs(Z, ojModX2, sense, b1) # add the constraints to the model\n",
    "ojModel2.setMObjective(None,firm1_ROI,0,sense=gp.GRB.MAXIMIZE) # add the objective to the model\n",
    "\n",
    "ojModel2.Params.OutputFlag = 0"
   ]
  },
  {
   "cell_type": "code",
   "execution_count": 94,
   "metadata": {},
   "outputs": [
    {
     "data": {
      "text/plain": [
       "0.46499999999999997"
      ]
     },
     "execution_count": 94,
     "metadata": {},
     "output_type": "execute_result"
    }
   ],
   "source": [
    "ojModel2.optimize() # solve the LP\n",
    "ojModel2.objVal # optimal budget allocation level"
   ]
  },
  {
   "cell_type": "code",
   "execution_count": 95,
   "metadata": {},
   "outputs": [
    {
     "data": {
      "text/plain": [
       "array([0., 5., 0., 0., 0., 0., 0., 0., 0., 5.])"
      ]
     },
     "execution_count": 95,
     "metadata": {},
     "output_type": "execute_result"
    }
   ],
   "source": [
    "ojModX2.x "
   ]
  },
  {
   "cell_type": "code",
   "execution_count": 96,
   "metadata": {},
   "outputs": [
    {
     "data": {
      "text/plain": [
       "0.46499999999999997"
      ]
     },
     "execution_count": 96,
     "metadata": {},
     "output_type": "execute_result"
    }
   ],
   "source": [
    "ojModel2.setMObjective(None,firm2_ROI,0,sense=gp.GRB.MAXIMIZE) # add the objective to the model\n",
    "\n",
    "ojModel2.Params.OutputFlag = 0\n",
    "ojModel2.optimize() # solve the LP\n",
    "ojModel2.objVal"
   ]
  },
  {
   "cell_type": "code",
   "execution_count": 97,
   "metadata": {},
   "outputs": [
    {
     "data": {
      "text/plain": [
       "array([5., 0., 0., 0., 5., 0., 0., 0., 0., 0.])"
      ]
     },
     "execution_count": 97,
     "metadata": {},
     "output_type": "execute_result"
    }
   ],
   "source": [
    "ojModX2.x "
   ]
  },
  {
   "cell_type": "markdown",
   "metadata": {},
   "source": [
    "Running both the models without the third constraint, we see that it does affect our optimal level of budget allocation. The optimal level of budget changes from $0.456 million to $0.465 million as we remove/don't consider the third constraint. Further, the budget allocation to some of the channels become $ 5 million. "
   ]
  },
  {
   "cell_type": "markdown",
   "metadata": {},
   "source": [
    "# Question 6"
   ]
  },
  {
   "cell_type": "code",
   "execution_count": 70,
   "metadata": {},
   "outputs": [
    {
     "data": {
      "text/plain": [
       "array([0., 3., 0., 1., 0., 0., 3., 0., 0., 3.])"
      ]
     },
     "execution_count": 70,
     "metadata": {},
     "output_type": "execute_result"
    }
   ],
   "source": [
    "A = np.zeros((13,10))               # initialize constraint matrix\n",
    "A[0,:] = [1,1,0,0,-1,0,0,0,0,-1] \n",
    "A[1,:] = [0,0,-2,-2,1,1,1,1,1,0] \n",
    "A[2,:] = [1,0,0,0,0,0,0,0,0,0] \n",
    "A[3,:] = [0,1,0,0,0,0,0,0,0,0] \n",
    "A[4,:] = [0,0,1,0,0,0,0,0,0,0] \n",
    "A[5,:] = [0,0,0,1,0,0,0,0,0,0] \n",
    "A[6,:] = [0,0,0,0,1,0,0,0,0,0] \n",
    "A[7,:] = [0,0,0,0,0,1,0,0,0,0] \n",
    "A[8,:] = [0,0,0,0,0,0,1,0,0,0] \n",
    "A[9,:] = [0,0,0,0,0,0,0,1,0,0] \n",
    "A[10,:] = [0,0,0,0,0,0,0,0,1,0] \n",
    "A[11,:] = [0,0,0,0,0,0,0,0,0,1] \n",
    "A[12,:] = [1,1,1,1,1,1,1,1,1,1]\n",
    "b = np.array([0,0,3,3,3,3,3,3,3,3,3,3,10]) # limits\n",
    "sense = np.array(['<','>','<','<','<','<','<','<','<','<','<','<','<']) # all constraints\n",
    "ojModel = gp.Model()                                    # initialize an empty model\n",
    "ojModX = ojModel.addMVar(10)                            # tell the model how many variables there are\n",
    "ojModCon = ojModel.addMConstrs(A, ojModX, sense, b)     # add the constraints to the model\n",
    "ojModel.setMObjective(None,firm1_ROI,0,sense=gp.GRB.MAXIMIZE)   # add the objective to the model\n",
    "ojModel.Params.OutputFlag = 0 \n",
    "ojModel.optimize()\n",
    "\n",
    "ojModX.x"
   ]
  },
  {
   "cell_type": "code",
   "execution_count": 100,
   "metadata": {},
   "outputs": [],
   "source": [
    "df_bounds = pd.DataFrame(ojModX.SAObjLow, columns = ['ROI_limit_lower'],index=df.columns[1:])\n",
    "df_bounds['ROI_limit_upper'] = ojModX.SAObjUp"
   ]
  },
  {
   "cell_type": "code",
   "execution_count": 101,
   "metadata": {},
   "outputs": [
    {
     "data": {
      "text/html": [
       "<div>\n",
       "<style scoped>\n",
       "    .dataframe tbody tr th:only-of-type {\n",
       "        vertical-align: middle;\n",
       "    }\n",
       "\n",
       "    .dataframe tbody tr th {\n",
       "        vertical-align: top;\n",
       "    }\n",
       "\n",
       "    .dataframe thead th {\n",
       "        text-align: right;\n",
       "    }\n",
       "</style>\n",
       "<table border=\"1\" class=\"dataframe\">\n",
       "  <thead>\n",
       "    <tr style=\"text-align: right;\">\n",
       "      <th></th>\n",
       "      <th>ROI_limit_lower</th>\n",
       "      <th>ROI_limit_upper</th>\n",
       "    </tr>\n",
       "  </thead>\n",
       "  <tbody>\n",
       "    <tr>\n",
       "      <th>Print</th>\n",
       "      <td>-inf</td>\n",
       "      <td>0.049</td>\n",
       "    </tr>\n",
       "    <tr>\n",
       "      <th>TV</th>\n",
       "      <td>0.039</td>\n",
       "      <td>0.062</td>\n",
       "    </tr>\n",
       "    <tr>\n",
       "      <th>SEO</th>\n",
       "      <td>-inf</td>\n",
       "      <td>0.039</td>\n",
       "    </tr>\n",
       "    <tr>\n",
       "      <th>AdWords</th>\n",
       "      <td>0.033</td>\n",
       "      <td>0.046</td>\n",
       "    </tr>\n",
       "    <tr>\n",
       "      <th>Facebook</th>\n",
       "      <td>-inf</td>\n",
       "      <td>0.029</td>\n",
       "    </tr>\n",
       "    <tr>\n",
       "      <th>LinkedIn</th>\n",
       "      <td>-inf</td>\n",
       "      <td>0.039</td>\n",
       "    </tr>\n",
       "    <tr>\n",
       "      <th>Instagram</th>\n",
       "      <td>0.039</td>\n",
       "      <td>inf</td>\n",
       "    </tr>\n",
       "    <tr>\n",
       "      <th>Snapchat</th>\n",
       "      <td>-inf</td>\n",
       "      <td>0.039</td>\n",
       "    </tr>\n",
       "    <tr>\n",
       "      <th>Twitter</th>\n",
       "      <td>-inf</td>\n",
       "      <td>0.039</td>\n",
       "    </tr>\n",
       "    <tr>\n",
       "      <th>Email</th>\n",
       "      <td>0.029</td>\n",
       "      <td>inf</td>\n",
       "    </tr>\n",
       "  </tbody>\n",
       "</table>\n",
       "</div>"
      ],
      "text/plain": [
       "           ROI_limit_lower  ROI_limit_upper\n",
       "Print                 -inf            0.049\n",
       "TV                   0.039            0.062\n",
       "SEO                   -inf            0.039\n",
       "AdWords              0.033            0.046\n",
       "Facebook              -inf            0.029\n",
       "LinkedIn              -inf            0.039\n",
       "Instagram            0.039              inf\n",
       "Snapchat              -inf            0.039\n",
       "Twitter               -inf            0.039\n",
       "Email                0.029              inf"
      ]
     },
     "execution_count": 101,
     "metadata": {},
     "output_type": "execute_result"
    }
   ],
   "source": [
    "df_bounds"
   ]
  },
  {
   "cell_type": "markdown",
   "metadata": {},
   "source": [
    "# Question 7"
   ]
  },
  {
   "cell_type": "code",
   "execution_count": 165,
   "metadata": {},
   "outputs": [
    {
     "data": {
      "text/html": [
       "<div>\n",
       "<style scoped>\n",
       "    .dataframe tbody tr th:only-of-type {\n",
       "        vertical-align: middle;\n",
       "    }\n",
       "\n",
       "    .dataframe tbody tr th {\n",
       "        vertical-align: top;\n",
       "    }\n",
       "\n",
       "    .dataframe thead th {\n",
       "        text-align: right;\n",
       "    }\n",
       "</style>\n",
       "<table border=\"1\" class=\"dataframe\">\n",
       "  <thead>\n",
       "    <tr style=\"text-align: right;\">\n",
       "      <th></th>\n",
       "      <th>Print</th>\n",
       "      <th>TV</th>\n",
       "      <th>SEO</th>\n",
       "      <th>AdWords</th>\n",
       "      <th>Facebook</th>\n",
       "      <th>LinkedIn</th>\n",
       "      <th>Instagram</th>\n",
       "      <th>Snapchat</th>\n",
       "      <th>Twitter</th>\n",
       "      <th>Email</th>\n",
       "    </tr>\n",
       "    <tr>\n",
       "      <th>Unnamed: 0</th>\n",
       "      <th></th>\n",
       "      <th></th>\n",
       "      <th></th>\n",
       "      <th></th>\n",
       "      <th></th>\n",
       "      <th></th>\n",
       "      <th></th>\n",
       "      <th></th>\n",
       "      <th></th>\n",
       "      <th></th>\n",
       "    </tr>\n",
       "  </thead>\n",
       "  <tbody>\n",
       "    <tr>\n",
       "      <th>January</th>\n",
       "      <td>0.040</td>\n",
       "      <td>0.036</td>\n",
       "      <td>0.024</td>\n",
       "      <td>0.039</td>\n",
       "      <td>0.030</td>\n",
       "      <td>0.035</td>\n",
       "      <td>0.036</td>\n",
       "      <td>0.0225</td>\n",
       "      <td>0.035</td>\n",
       "      <td>0.035</td>\n",
       "    </tr>\n",
       "    <tr>\n",
       "      <th>February</th>\n",
       "      <td>0.040</td>\n",
       "      <td>0.039</td>\n",
       "      <td>0.027</td>\n",
       "      <td>0.038</td>\n",
       "      <td>0.043</td>\n",
       "      <td>0.032</td>\n",
       "      <td>0.027</td>\n",
       "      <td>0.0180</td>\n",
       "      <td>0.037</td>\n",
       "      <td>0.035</td>\n",
       "    </tr>\n",
       "    <tr>\n",
       "      <th>March</th>\n",
       "      <td>0.035</td>\n",
       "      <td>0.029</td>\n",
       "      <td>0.031</td>\n",
       "      <td>0.038</td>\n",
       "      <td>0.024</td>\n",
       "      <td>0.041</td>\n",
       "      <td>0.037</td>\n",
       "      <td>0.0260</td>\n",
       "      <td>0.042</td>\n",
       "      <td>0.025</td>\n",
       "    </tr>\n",
       "    <tr>\n",
       "      <th>April</th>\n",
       "      <td>0.038</td>\n",
       "      <td>0.031</td>\n",
       "      <td>0.024</td>\n",
       "      <td>0.044</td>\n",
       "      <td>0.024</td>\n",
       "      <td>0.038</td>\n",
       "      <td>0.037</td>\n",
       "      <td>0.0250</td>\n",
       "      <td>0.036</td>\n",
       "      <td>0.029</td>\n",
       "    </tr>\n",
       "    <tr>\n",
       "      <th>May</th>\n",
       "      <td>0.035</td>\n",
       "      <td>0.032</td>\n",
       "      <td>0.019</td>\n",
       "      <td>0.034</td>\n",
       "      <td>0.027</td>\n",
       "      <td>0.027</td>\n",
       "      <td>0.039</td>\n",
       "      <td>0.0220</td>\n",
       "      <td>0.045</td>\n",
       "      <td>0.039</td>\n",
       "    </tr>\n",
       "    <tr>\n",
       "      <th>June</th>\n",
       "      <td>0.040</td>\n",
       "      <td>0.032</td>\n",
       "      <td>0.027</td>\n",
       "      <td>0.034</td>\n",
       "      <td>0.034</td>\n",
       "      <td>0.030</td>\n",
       "      <td>0.045</td>\n",
       "      <td>0.0210</td>\n",
       "      <td>0.038</td>\n",
       "      <td>0.041</td>\n",
       "    </tr>\n",
       "    <tr>\n",
       "      <th>July</th>\n",
       "      <td>0.039</td>\n",
       "      <td>0.036</td>\n",
       "      <td>0.020</td>\n",
       "      <td>0.044</td>\n",
       "      <td>0.039</td>\n",
       "      <td>0.037</td>\n",
       "      <td>0.043</td>\n",
       "      <td>0.0180</td>\n",
       "      <td>0.040</td>\n",
       "      <td>0.038</td>\n",
       "    </tr>\n",
       "    <tr>\n",
       "      <th>August</th>\n",
       "      <td>0.042</td>\n",
       "      <td>0.033</td>\n",
       "      <td>0.028</td>\n",
       "      <td>0.042</td>\n",
       "      <td>0.020</td>\n",
       "      <td>0.037</td>\n",
       "      <td>0.036</td>\n",
       "      <td>0.0150</td>\n",
       "      <td>0.044</td>\n",
       "      <td>0.043</td>\n",
       "    </tr>\n",
       "    <tr>\n",
       "      <th>September</th>\n",
       "      <td>0.041</td>\n",
       "      <td>0.028</td>\n",
       "      <td>0.025</td>\n",
       "      <td>0.042</td>\n",
       "      <td>0.029</td>\n",
       "      <td>0.037</td>\n",
       "      <td>0.028</td>\n",
       "      <td>0.0250</td>\n",
       "      <td>0.040</td>\n",
       "      <td>0.034</td>\n",
       "    </tr>\n",
       "    <tr>\n",
       "      <th>October</th>\n",
       "      <td>0.030</td>\n",
       "      <td>0.030</td>\n",
       "      <td>0.031</td>\n",
       "      <td>0.046</td>\n",
       "      <td>0.031</td>\n",
       "      <td>0.033</td>\n",
       "      <td>0.032</td>\n",
       "      <td>0.0230</td>\n",
       "      <td>0.025</td>\n",
       "      <td>0.032</td>\n",
       "    </tr>\n",
       "    <tr>\n",
       "      <th>November</th>\n",
       "      <td>0.048</td>\n",
       "      <td>0.033</td>\n",
       "      <td>0.027</td>\n",
       "      <td>0.041</td>\n",
       "      <td>0.029</td>\n",
       "      <td>0.036</td>\n",
       "      <td>0.042</td>\n",
       "      <td>0.0300</td>\n",
       "      <td>0.031</td>\n",
       "      <td>0.041</td>\n",
       "    </tr>\n",
       "    <tr>\n",
       "      <th>December</th>\n",
       "      <td>0.048</td>\n",
       "      <td>0.040</td>\n",
       "      <td>0.019</td>\n",
       "      <td>0.037</td>\n",
       "      <td>0.042</td>\n",
       "      <td>0.036</td>\n",
       "      <td>0.026</td>\n",
       "      <td>0.0290</td>\n",
       "      <td>0.036</td>\n",
       "      <td>0.037</td>\n",
       "    </tr>\n",
       "  </tbody>\n",
       "</table>\n",
       "</div>"
      ],
      "text/plain": [
       "            Print     TV    SEO  AdWords  Facebook  LinkedIn  Instagram  \\\n",
       "Unnamed: 0                                                                \n",
       "January     0.040  0.036  0.024    0.039     0.030     0.035      0.036   \n",
       "February    0.040  0.039  0.027    0.038     0.043     0.032      0.027   \n",
       "March       0.035  0.029  0.031    0.038     0.024     0.041      0.037   \n",
       "April       0.038  0.031  0.024    0.044     0.024     0.038      0.037   \n",
       "May         0.035  0.032  0.019    0.034     0.027     0.027      0.039   \n",
       "June        0.040  0.032  0.027    0.034     0.034     0.030      0.045   \n",
       "July        0.039  0.036  0.020    0.044     0.039     0.037      0.043   \n",
       "August      0.042  0.033  0.028    0.042     0.020     0.037      0.036   \n",
       "September   0.041  0.028  0.025    0.042     0.029     0.037      0.028   \n",
       "October     0.030  0.030  0.031    0.046     0.031     0.033      0.032   \n",
       "November    0.048  0.033  0.027    0.041     0.029     0.036      0.042   \n",
       "December    0.048  0.040  0.019    0.037     0.042     0.036      0.026   \n",
       "\n",
       "            Snapchat  Twitter  Email  \n",
       "Unnamed: 0                            \n",
       "January       0.0225    0.035  0.035  \n",
       "February      0.0180    0.037  0.035  \n",
       "March         0.0260    0.042  0.025  \n",
       "April         0.0250    0.036  0.029  \n",
       "May           0.0220    0.045  0.039  \n",
       "June          0.0210    0.038  0.041  \n",
       "July          0.0180    0.040  0.038  \n",
       "August        0.0150    0.044  0.043  \n",
       "September     0.0250    0.040  0.034  \n",
       "October       0.0230    0.025  0.032  \n",
       "November      0.0300    0.031  0.041  \n",
       "December      0.0290    0.036  0.037  "
      ]
     },
     "execution_count": 165,
     "metadata": {},
     "output_type": "execute_result"
    }
   ],
   "source": [
    "# Reading in the new monthly ROI data from the roi_mat file\n",
    "df_1 = pd.read_csv('roi_mat.csv')\n",
    "\n",
    "type(df_1)\n",
    "df_roi = (df_1.iloc[0:,1:]/100).set_index(df_1.iloc[0:,0])\n",
    "df_roi\n"
   ]
  },
  {
   "cell_type": "code",
   "execution_count": 166,
   "metadata": {},
   "outputs": [],
   "source": [
    "A = np.zeros((13,10))               # initialize constraint matrix\n",
    "A[0,:] = [1,1,0,0,-1,0,0,0,0,-1] \n",
    "A[1,:] = [0,0,-2,-2,1,1,1,1,1,0] \n",
    "A[2,:] = [1,0,0,0,0,0,0,0,0,0] \n",
    "A[3,:] = [0,1,0,0,0,0,0,0,0,0] \n",
    "A[4,:] = [0,0,1,0,0,0,0,0,0,0] \n",
    "A[5,:] = [0,0,0,1,0,0,0,0,0,0] \n",
    "A[6,:] = [0,0,0,0,1,0,0,0,0,0] \n",
    "A[7,:] = [0,0,0,0,0,1,0,0,0,0] \n",
    "A[8,:] = [0,0,0,0,0,0,1,0,0,0] \n",
    "A[9,:] = [0,0,0,0,0,0,0,1,0,0] \n",
    "A[10,:] = [0,0,0,0,0,0,0,0,1,0] \n",
    "A[11,:] = [0,0,0,0,0,0,0,0,0,1] \n",
    "A[12,:] = [1,1,1,1,1,1,1,1,1,1]\n",
    "\n",
    "sense = np.array(['<','>','<','<','<','<','<','<','<','<','<','<','<']) # all constraints\n"
   ]
  },
  {
   "cell_type": "markdown",
   "metadata": {},
   "source": [
    "### Creating loop for the objective to take ROI given in the csv file"
   ]
  },
  {
   "cell_type": "code",
   "execution_count": 167,
   "metadata": {},
   "outputs": [],
   "source": [
    "channel = list(list(df.columns)[1:])\n",
    "df_itr = []\n",
    "new_budget_list = []\n",
    "old_budget_list = []\n",
    "new_allocations = []\n",
    "\n",
    "# Setting up the base budget\n",
    "budget = 10\n",
    "\n",
    "for i in range(12):\n",
    "    \n",
    "    b = np.array([0,0,3,3,3,3,3,3,3,3,3,3,budget]) # limits\n",
    "    \n",
    "    objModel = gp.Model()                                    # initialize an empty model\n",
    "    objModX = objModel.addMVar(10)                            # tell the model how many variables there are\n",
    "    objModCon = objModel.addMConstrs(A, objModX, sense, b) \n",
    "    obj_itr = df_roi.iloc[i].array\n",
    "    objModel.setMObjective(None,firm1_ROI,0,sense=gp.GRB.MAXIMIZE)   # add the objective to the model\n",
    "    objModel.Params.OutputFlag = 0 \n",
    "    objModel.optimize()\n",
    "    return2 = np.sum(objModX.x*obj_itr)\n",
    "    df_itr.append(return2)\n",
    "    \n",
    "    new_allocations.append(objModX.x)\n",
    "    \n",
    "    old_budget_list.append(budget)\n",
    "    budget = budget+return2*0.5\n",
    "    new_budget_list.append(budget)\n",
    "    "
   ]
  },
  {
   "cell_type": "code",
   "execution_count": 170,
   "metadata": {},
   "outputs": [],
   "source": [
    "# Reading in the names of each month to set as an index\n",
    "months=[]\n",
    "for i in range(1,13):\n",
    "    months.append(calendar.month_name[i])\n",
    "# Assigning the New return, budget and allocation data into a DataFrame\n",
    "df2 = pd.DataFrame(new_allocations,index=months, columns = channel)\n",
    "df2['Old Budget'] = old_budget_list\n",
    "df2['New Budget'] = new_budget_list\n",
    "df2['Return'] = df_itr"
   ]
  },
  {
   "cell_type": "code",
   "execution_count": 171,
   "metadata": {},
   "outputs": [
    {
     "data": {
      "text/html": [
       "<div>\n",
       "<style scoped>\n",
       "    .dataframe tbody tr th:only-of-type {\n",
       "        vertical-align: middle;\n",
       "    }\n",
       "\n",
       "    .dataframe tbody tr th {\n",
       "        vertical-align: top;\n",
       "    }\n",
       "\n",
       "    .dataframe thead th {\n",
       "        text-align: right;\n",
       "    }\n",
       "</style>\n",
       "<table border=\"1\" class=\"dataframe\">\n",
       "  <thead>\n",
       "    <tr style=\"text-align: right;\">\n",
       "      <th></th>\n",
       "      <th>Print</th>\n",
       "      <th>TV</th>\n",
       "      <th>SEO</th>\n",
       "      <th>AdWords</th>\n",
       "      <th>Facebook</th>\n",
       "      <th>LinkedIn</th>\n",
       "      <th>Instagram</th>\n",
       "      <th>Snapchat</th>\n",
       "      <th>Twitter</th>\n",
       "      <th>Email</th>\n",
       "      <th>Old Budget</th>\n",
       "      <th>New Budget</th>\n",
       "      <th>Return</th>\n",
       "    </tr>\n",
       "  </thead>\n",
       "  <tbody>\n",
       "    <tr>\n",
       "      <th>January</th>\n",
       "      <td>0.0</td>\n",
       "      <td>3.0</td>\n",
       "      <td>0.0</td>\n",
       "      <td>1.000000</td>\n",
       "      <td>0.0</td>\n",
       "      <td>0.0</td>\n",
       "      <td>3.0</td>\n",
       "      <td>0.0</td>\n",
       "      <td>0.000000</td>\n",
       "      <td>3.0</td>\n",
       "      <td>10.000000</td>\n",
       "      <td>10.180000</td>\n",
       "      <td>0.360000</td>\n",
       "    </tr>\n",
       "    <tr>\n",
       "      <th>February</th>\n",
       "      <td>0.0</td>\n",
       "      <td>3.0</td>\n",
       "      <td>0.0</td>\n",
       "      <td>1.180000</td>\n",
       "      <td>0.0</td>\n",
       "      <td>0.0</td>\n",
       "      <td>3.0</td>\n",
       "      <td>0.0</td>\n",
       "      <td>0.000000</td>\n",
       "      <td>3.0</td>\n",
       "      <td>10.180000</td>\n",
       "      <td>10.353920</td>\n",
       "      <td>0.347840</td>\n",
       "    </tr>\n",
       "    <tr>\n",
       "      <th>March</th>\n",
       "      <td>0.0</td>\n",
       "      <td>3.0</td>\n",
       "      <td>0.0</td>\n",
       "      <td>1.353920</td>\n",
       "      <td>0.0</td>\n",
       "      <td>0.0</td>\n",
       "      <td>3.0</td>\n",
       "      <td>0.0</td>\n",
       "      <td>0.000000</td>\n",
       "      <td>3.0</td>\n",
       "      <td>10.353920</td>\n",
       "      <td>10.516144</td>\n",
       "      <td>0.324449</td>\n",
       "    </tr>\n",
       "    <tr>\n",
       "      <th>April</th>\n",
       "      <td>0.0</td>\n",
       "      <td>3.0</td>\n",
       "      <td>0.0</td>\n",
       "      <td>1.505381</td>\n",
       "      <td>0.0</td>\n",
       "      <td>0.0</td>\n",
       "      <td>3.0</td>\n",
       "      <td>0.0</td>\n",
       "      <td>0.010763</td>\n",
       "      <td>3.0</td>\n",
       "      <td>10.516144</td>\n",
       "      <td>10.694957</td>\n",
       "      <td>0.357624</td>\n",
       "    </tr>\n",
       "    <tr>\n",
       "      <th>May</th>\n",
       "      <td>0.0</td>\n",
       "      <td>3.0</td>\n",
       "      <td>0.0</td>\n",
       "      <td>1.564986</td>\n",
       "      <td>0.0</td>\n",
       "      <td>0.0</td>\n",
       "      <td>3.0</td>\n",
       "      <td>0.0</td>\n",
       "      <td>0.129971</td>\n",
       "      <td>3.0</td>\n",
       "      <td>10.694957</td>\n",
       "      <td>10.889486</td>\n",
       "      <td>0.389058</td>\n",
       "    </tr>\n",
       "    <tr>\n",
       "      <th>June</th>\n",
       "      <td>0.0</td>\n",
       "      <td>3.0</td>\n",
       "      <td>0.0</td>\n",
       "      <td>1.629829</td>\n",
       "      <td>0.0</td>\n",
       "      <td>0.0</td>\n",
       "      <td>3.0</td>\n",
       "      <td>0.0</td>\n",
       "      <td>0.259657</td>\n",
       "      <td>3.0</td>\n",
       "      <td>10.889486</td>\n",
       "      <td>11.099126</td>\n",
       "      <td>0.419281</td>\n",
       "    </tr>\n",
       "    <tr>\n",
       "      <th>July</th>\n",
       "      <td>0.0</td>\n",
       "      <td>3.0</td>\n",
       "      <td>0.0</td>\n",
       "      <td>1.699709</td>\n",
       "      <td>0.0</td>\n",
       "      <td>0.0</td>\n",
       "      <td>3.0</td>\n",
       "      <td>0.0</td>\n",
       "      <td>0.399418</td>\n",
       "      <td>3.0</td>\n",
       "      <td>11.099126</td>\n",
       "      <td>11.320008</td>\n",
       "      <td>0.441764</td>\n",
       "    </tr>\n",
       "    <tr>\n",
       "      <th>August</th>\n",
       "      <td>0.0</td>\n",
       "      <td>3.0</td>\n",
       "      <td>0.0</td>\n",
       "      <td>1.773336</td>\n",
       "      <td>0.0</td>\n",
       "      <td>0.0</td>\n",
       "      <td>3.0</td>\n",
       "      <td>0.0</td>\n",
       "      <td>0.546672</td>\n",
       "      <td>3.0</td>\n",
       "      <td>11.320008</td>\n",
       "      <td>11.537275</td>\n",
       "      <td>0.434534</td>\n",
       "    </tr>\n",
       "    <tr>\n",
       "      <th>September</th>\n",
       "      <td>0.0</td>\n",
       "      <td>3.0</td>\n",
       "      <td>0.0</td>\n",
       "      <td>1.845758</td>\n",
       "      <td>0.0</td>\n",
       "      <td>0.0</td>\n",
       "      <td>3.0</td>\n",
       "      <td>0.0</td>\n",
       "      <td>0.691517</td>\n",
       "      <td>3.0</td>\n",
       "      <td>11.537275</td>\n",
       "      <td>11.724866</td>\n",
       "      <td>0.375183</td>\n",
       "    </tr>\n",
       "    <tr>\n",
       "      <th>October</th>\n",
       "      <td>0.0</td>\n",
       "      <td>3.0</td>\n",
       "      <td>0.0</td>\n",
       "      <td>1.908289</td>\n",
       "      <td>0.0</td>\n",
       "      <td>0.0</td>\n",
       "      <td>3.0</td>\n",
       "      <td>0.0</td>\n",
       "      <td>0.816578</td>\n",
       "      <td>3.0</td>\n",
       "      <td>11.724866</td>\n",
       "      <td>11.919964</td>\n",
       "      <td>0.390196</td>\n",
       "    </tr>\n",
       "    <tr>\n",
       "      <th>November</th>\n",
       "      <td>0.0</td>\n",
       "      <td>3.0</td>\n",
       "      <td>0.0</td>\n",
       "      <td>1.973321</td>\n",
       "      <td>0.0</td>\n",
       "      <td>0.0</td>\n",
       "      <td>3.0</td>\n",
       "      <td>0.0</td>\n",
       "      <td>0.946643</td>\n",
       "      <td>3.0</td>\n",
       "      <td>11.919964</td>\n",
       "      <td>12.149090</td>\n",
       "      <td>0.458252</td>\n",
       "    </tr>\n",
       "    <tr>\n",
       "      <th>December</th>\n",
       "      <td>0.0</td>\n",
       "      <td>3.0</td>\n",
       "      <td>0.0</td>\n",
       "      <td>2.049697</td>\n",
       "      <td>0.0</td>\n",
       "      <td>0.0</td>\n",
       "      <td>3.0</td>\n",
       "      <td>0.0</td>\n",
       "      <td>1.099393</td>\n",
       "      <td>3.0</td>\n",
       "      <td>12.149090</td>\n",
       "      <td>12.361299</td>\n",
       "      <td>0.424417</td>\n",
       "    </tr>\n",
       "  </tbody>\n",
       "</table>\n",
       "</div>"
      ],
      "text/plain": [
       "           Print   TV  SEO   AdWords  Facebook  LinkedIn  Instagram  Snapchat  \\\n",
       "January      0.0  3.0  0.0  1.000000       0.0       0.0        3.0       0.0   \n",
       "February     0.0  3.0  0.0  1.180000       0.0       0.0        3.0       0.0   \n",
       "March        0.0  3.0  0.0  1.353920       0.0       0.0        3.0       0.0   \n",
       "April        0.0  3.0  0.0  1.505381       0.0       0.0        3.0       0.0   \n",
       "May          0.0  3.0  0.0  1.564986       0.0       0.0        3.0       0.0   \n",
       "June         0.0  3.0  0.0  1.629829       0.0       0.0        3.0       0.0   \n",
       "July         0.0  3.0  0.0  1.699709       0.0       0.0        3.0       0.0   \n",
       "August       0.0  3.0  0.0  1.773336       0.0       0.0        3.0       0.0   \n",
       "September    0.0  3.0  0.0  1.845758       0.0       0.0        3.0       0.0   \n",
       "October      0.0  3.0  0.0  1.908289       0.0       0.0        3.0       0.0   \n",
       "November     0.0  3.0  0.0  1.973321       0.0       0.0        3.0       0.0   \n",
       "December     0.0  3.0  0.0  2.049697       0.0       0.0        3.0       0.0   \n",
       "\n",
       "            Twitter  Email  Old Budget  New Budget    Return  \n",
       "January    0.000000    3.0   10.000000   10.180000  0.360000  \n",
       "February   0.000000    3.0   10.180000   10.353920  0.347840  \n",
       "March      0.000000    3.0   10.353920   10.516144  0.324449  \n",
       "April      0.010763    3.0   10.516144   10.694957  0.357624  \n",
       "May        0.129971    3.0   10.694957   10.889486  0.389058  \n",
       "June       0.259657    3.0   10.889486   11.099126  0.419281  \n",
       "July       0.399418    3.0   11.099126   11.320008  0.441764  \n",
       "August     0.546672    3.0   11.320008   11.537275  0.434534  \n",
       "September  0.691517    3.0   11.537275   11.724866  0.375183  \n",
       "October    0.816578    3.0   11.724866   11.919964  0.390196  \n",
       "November   0.946643    3.0   11.919964   12.149090  0.458252  \n",
       "December   1.099393    3.0   12.149090   12.361299  0.424417  "
      ]
     },
     "execution_count": 171,
     "metadata": {},
     "output_type": "execute_result"
    }
   ],
   "source": [
    "df2"
   ]
  },
  {
   "cell_type": "markdown",
   "metadata": {},
   "source": [
    "### Chart for demonstrating returns "
   ]
  },
  {
   "cell_type": "code",
   "execution_count": 178,
   "metadata": {},
   "outputs": [
    {
     "data": {
      "image/png": "[encoded data removed]",
      "text/plain": [
       "<Figure size 1080x360 with 1 Axes>"
      ]
     },
     "metadata": {
      "needs_background": "light"
     },
     "output_type": "display_data"
    }
   ],
   "source": [
    "import matplotlib.pyplot as plt\n",
    "fig = plt.figure(figsize=(15, 5))\n",
    "plt.plot(months,df_itr)\n",
    "plt.title('Return per month')\n",
    "plt.xlabel('Month')\n",
    "plt.ylabel('Return')\n",
    "plt.show()"
   ]
  },
  {
   "cell_type": "markdown",
   "metadata": {},
   "source": [
    "### Chart for demonstrating new budget allocation"
   ]
  },
  {
   "cell_type": "code",
   "execution_count": 181,
   "metadata": {},
   "outputs": [
    {
     "data": {
      "image/png": "[encoded data removed]",
      "text/plain": [
       "<Figure size 1080x360 with 1 Axes>"
      ]
     },
     "metadata": {
      "needs_background": "light"
     },
     "output_type": "display_data"
    }
   ],
   "source": [
    "fig = plt.figure(figsize=(15, 5))\n",
    "plt.plot(months,new_budget_list)\n",
    "plt.title('Budget per month')\n",
    "plt.xlabel('Month')\n",
    "plt.ylabel('New Budget')\n",
    "plt.show()"
   ]
  },
  {
   "cell_type": "code",
   "execution_count": 200,
   "metadata": {},
   "outputs": [
    {
     "data": {
      "image/png": "[encoded data removed]",
      "text/plain": [
       "<Figure size 1080x360 with 1 Axes>"
      ]
     },
     "metadata": {
      "needs_background": "light"
     },
     "output_type": "display_data"
    }
   ],
   "source": [
    "df_na = df2.iloc[0:,:10]\n",
    "ax = plt.gca()\n",
    "df_na.plot(kind='line',ax=ax,figsize=(15, 5))\n",
    "plt.title('Allocation per month')\n",
    "plt.xlabel('Month')\n",
    "plt.ylabel('Allocation')\n",
    "plt.show()"
   ]
  },
  {
   "cell_type": "markdown",
   "metadata": {},
   "source": [
    "# Question 8"
   ]
  },
  {
   "cell_type": "code",
   "execution_count": 203,
   "metadata": {},
   "outputs": [],
   "source": [
    "df3 = df2.iloc[:,:10]\n",
    "monthly_change = []\n",
    "for i in range(len(months)-1):\n",
    "    monthly_change.append(months[i]+'-'+months[i+1])\n",
    "df_stability = pd.DataFrame(index=monthly_change,columns=df3.columns)\n",
    "\n",
    "# Checking for stability\n",
    "\n",
    "Stability = []\n",
    "ROI_Change = {}\n",
    "for i in range(len(months)-1):\n",
    "    for j in range(10):\n",
    "        k = abs(df3.loc[months[i+1]][j] - df3.loc[months[i]][j])\n",
    "        if k > 1:\n",
    "            Stability.append('Unstable')\n",
    "            df_stability.iloc[i][j] = 'Unstable'\n",
    "        else:\n",
    "            Stability.append('Stable')\n",
    "            df_stability.iloc[i][j] = 'Stable'"
   ]
  },
  {
   "cell_type": "code",
   "execution_count": 204,
   "metadata": {},
   "outputs": [
    {
     "data": {
      "text/html": [
       "<div>\n",
       "<style scoped>\n",
       "    .dataframe tbody tr th:only-of-type {\n",
       "        vertical-align: middle;\n",
       "    }\n",
       "\n",
       "    .dataframe tbody tr th {\n",
       "        vertical-align: top;\n",
       "    }\n",
       "\n",
       "    .dataframe thead th {\n",
       "        text-align: right;\n",
       "    }\n",
       "</style>\n",
       "<table border=\"1\" class=\"dataframe\">\n",
       "  <thead>\n",
       "    <tr style=\"text-align: right;\">\n",
       "      <th></th>\n",
       "      <th>Print</th>\n",
       "      <th>TV</th>\n",
       "      <th>SEO</th>\n",
       "      <th>AdWords</th>\n",
       "      <th>Facebook</th>\n",
       "      <th>LinkedIn</th>\n",
       "      <th>Instagram</th>\n",
       "      <th>Snapchat</th>\n",
       "      <th>Twitter</th>\n",
       "      <th>Email</th>\n",
       "    </tr>\n",
       "  </thead>\n",
       "  <tbody>\n",
       "    <tr>\n",
       "      <th>January-February</th>\n",
       "      <td>Stable</td>\n",
       "      <td>Stable</td>\n",
       "      <td>Stable</td>\n",
       "      <td>Stable</td>\n",
       "      <td>Stable</td>\n",
       "      <td>Stable</td>\n",
       "      <td>Stable</td>\n",
       "      <td>Stable</td>\n",
       "      <td>Stable</td>\n",
       "      <td>Stable</td>\n",
       "    </tr>\n",
       "    <tr>\n",
       "      <th>February-March</th>\n",
       "      <td>Stable</td>\n",
       "      <td>Stable</td>\n",
       "      <td>Stable</td>\n",
       "      <td>Stable</td>\n",
       "      <td>Stable</td>\n",
       "      <td>Stable</td>\n",
       "      <td>Stable</td>\n",
       "      <td>Stable</td>\n",
       "      <td>Stable</td>\n",
       "      <td>Stable</td>\n",
       "    </tr>\n",
       "    <tr>\n",
       "      <th>March-April</th>\n",
       "      <td>Stable</td>\n",
       "      <td>Stable</td>\n",
       "      <td>Stable</td>\n",
       "      <td>Stable</td>\n",
       "      <td>Stable</td>\n",
       "      <td>Stable</td>\n",
       "      <td>Stable</td>\n",
       "      <td>Stable</td>\n",
       "      <td>Stable</td>\n",
       "      <td>Stable</td>\n",
       "    </tr>\n",
       "    <tr>\n",
       "      <th>April-May</th>\n",
       "      <td>Stable</td>\n",
       "      <td>Stable</td>\n",
       "      <td>Stable</td>\n",
       "      <td>Stable</td>\n",
       "      <td>Stable</td>\n",
       "      <td>Stable</td>\n",
       "      <td>Stable</td>\n",
       "      <td>Stable</td>\n",
       "      <td>Stable</td>\n",
       "      <td>Stable</td>\n",
       "    </tr>\n",
       "    <tr>\n",
       "      <th>May-June</th>\n",
       "      <td>Stable</td>\n",
       "      <td>Stable</td>\n",
       "      <td>Stable</td>\n",
       "      <td>Stable</td>\n",
       "      <td>Stable</td>\n",
       "      <td>Stable</td>\n",
       "      <td>Stable</td>\n",
       "      <td>Stable</td>\n",
       "      <td>Stable</td>\n",
       "      <td>Stable</td>\n",
       "    </tr>\n",
       "    <tr>\n",
       "      <th>June-July</th>\n",
       "      <td>Stable</td>\n",
       "      <td>Stable</td>\n",
       "      <td>Stable</td>\n",
       "      <td>Stable</td>\n",
       "      <td>Stable</td>\n",
       "      <td>Stable</td>\n",
       "      <td>Stable</td>\n",
       "      <td>Stable</td>\n",
       "      <td>Stable</td>\n",
       "      <td>Stable</td>\n",
       "    </tr>\n",
       "    <tr>\n",
       "      <th>July-August</th>\n",
       "      <td>Stable</td>\n",
       "      <td>Stable</td>\n",
       "      <td>Stable</td>\n",
       "      <td>Stable</td>\n",
       "      <td>Stable</td>\n",
       "      <td>Stable</td>\n",
       "      <td>Stable</td>\n",
       "      <td>Stable</td>\n",
       "      <td>Stable</td>\n",
       "      <td>Stable</td>\n",
       "    </tr>\n",
       "    <tr>\n",
       "      <th>August-September</th>\n",
       "      <td>Stable</td>\n",
       "      <td>Stable</td>\n",
       "      <td>Stable</td>\n",
       "      <td>Stable</td>\n",
       "      <td>Stable</td>\n",
       "      <td>Stable</td>\n",
       "      <td>Stable</td>\n",
       "      <td>Stable</td>\n",
       "      <td>Stable</td>\n",
       "      <td>Stable</td>\n",
       "    </tr>\n",
       "    <tr>\n",
       "      <th>September-October</th>\n",
       "      <td>Stable</td>\n",
       "      <td>Stable</td>\n",
       "      <td>Stable</td>\n",
       "      <td>Stable</td>\n",
       "      <td>Stable</td>\n",
       "      <td>Stable</td>\n",
       "      <td>Stable</td>\n",
       "      <td>Stable</td>\n",
       "      <td>Stable</td>\n",
       "      <td>Stable</td>\n",
       "    </tr>\n",
       "    <tr>\n",
       "      <th>October-November</th>\n",
       "      <td>Stable</td>\n",
       "      <td>Stable</td>\n",
       "      <td>Stable</td>\n",
       "      <td>Stable</td>\n",
       "      <td>Stable</td>\n",
       "      <td>Stable</td>\n",
       "      <td>Stable</td>\n",
       "      <td>Stable</td>\n",
       "      <td>Stable</td>\n",
       "      <td>Stable</td>\n",
       "    </tr>\n",
       "    <tr>\n",
       "      <th>November-December</th>\n",
       "      <td>Stable</td>\n",
       "      <td>Stable</td>\n",
       "      <td>Stable</td>\n",
       "      <td>Stable</td>\n",
       "      <td>Stable</td>\n",
       "      <td>Stable</td>\n",
       "      <td>Stable</td>\n",
       "      <td>Stable</td>\n",
       "      <td>Stable</td>\n",
       "      <td>Stable</td>\n",
       "    </tr>\n",
       "  </tbody>\n",
       "</table>\n",
       "</div>"
      ],
      "text/plain": [
       "                    Print      TV     SEO AdWords Facebook LinkedIn Instagram  \\\n",
       "January-February   Stable  Stable  Stable  Stable   Stable   Stable    Stable   \n",
       "February-March     Stable  Stable  Stable  Stable   Stable   Stable    Stable   \n",
       "March-April        Stable  Stable  Stable  Stable   Stable   Stable    Stable   \n",
       "April-May          Stable  Stable  Stable  Stable   Stable   Stable    Stable   \n",
       "May-June           Stable  Stable  Stable  Stable   Stable   Stable    Stable   \n",
       "June-July          Stable  Stable  Stable  Stable   Stable   Stable    Stable   \n",
       "July-August        Stable  Stable  Stable  Stable   Stable   Stable    Stable   \n",
       "August-September   Stable  Stable  Stable  Stable   Stable   Stable    Stable   \n",
       "September-October  Stable  Stable  Stable  Stable   Stable   Stable    Stable   \n",
       "October-November   Stable  Stable  Stable  Stable   Stable   Stable    Stable   \n",
       "November-December  Stable  Stable  Stable  Stable   Stable   Stable    Stable   \n",
       "\n",
       "                  Snapchat Twitter   Email  \n",
       "January-February    Stable  Stable  Stable  \n",
       "February-March      Stable  Stable  Stable  \n",
       "March-April         Stable  Stable  Stable  \n",
       "April-May           Stable  Stable  Stable  \n",
       "May-June            Stable  Stable  Stable  \n",
       "June-July           Stable  Stable  Stable  \n",
       "July-August         Stable  Stable  Stable  \n",
       "August-September    Stable  Stable  Stable  \n",
       "September-October   Stable  Stable  Stable  \n",
       "October-November    Stable  Stable  Stable  \n",
       "November-December   Stable  Stable  Stable  "
      ]
     },
     "execution_count": 204,
     "metadata": {},
     "output_type": "execute_result"
    }
   ],
   "source": [
    "df_stability"
   ]
  },
  {
   "cell_type": "markdown",
   "metadata": {},
   "source": [
    "The table above suggests that the monthly change in ROI across channels is stable for all months. This is true as also demonstrated by the table shown in Question 7. Here, we can see that the monthly change in allocation for none of the channels exceed more than $1 million. And hence it is a stable budget across all months for all channels."
   ]
  }
 ],
 "metadata": {
  "kernelspec": {
   "display_name": "Python 3",
   "language": "python",
   "name": "python3"
  },
  "language_info": {
   "codemirror_mode": {
    "name": "ipython",
    "version": 3
   },
   "file_extension": ".py",
   "mimetype": "text/x-python",
   "name": "python",
   "nbconvert_exporter": "python",
   "pygments_lexer": "ipython3",
   "version": "3.8.8"
  }
 },
 "nbformat": 4,
 "nbformat_minor": 2
}
